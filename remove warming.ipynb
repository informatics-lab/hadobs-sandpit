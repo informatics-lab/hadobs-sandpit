{
 "cells": [
  {
   "cell_type": "code",
   "execution_count": 2,
   "metadata": {
    "collapsed": false
   },
   "outputs": [],
   "source": [
    "import iris\n",
    "import sklearn\n",
    "import numpy as np\n",
    "from sklearn.decomposition import PCA\n",
    "from sklearn.preprocessing import normalize\n",
    "from sklearn.linear_model import LinearRegression\n",
    "import iris.quickplot as qplt\n",
    "import matplotlib.pyplot as plt\n",
    "%matplotlib inline  "
   ]
  },
  {
   "cell_type": "code",
   "execution_count": 3,
   "metadata": {
    "collapsed": false
   },
   "outputs": [
    {
     "name": "stderr",
     "output_type": "stream",
     "text": [
      "/Users/admin/miniconda2/lib/python2.7/site-packages/iris/fileformats/cf.py:1139: UserWarning: NetCDF default loading behaviour currently does not expose variables which define reference surfaces for dimensionless vertical coordinates as independent Cubes. This behaviour is deprecated in favour of automatic promotion to Cubes. To switch to the new behaviour, set iris.FUTURE.netcdf_promote to True.\n",
      "  warnings.warn(msg)\n"
     ]
    },
    {
     "data": {
      "text/plain": [
       "[<iris 'Cube' of near_surface_temperature_anomaly / (K) (time: 1995; latitude: 36; longitude: 72)>,\n",
       " <iris 'Cube' of near_surface_temperature_anomaly / (K) (time: 1995; latitude: 36; longitude: 72)>,\n",
       " <iris 'Cube' of near_surface_temperature_anomaly / (K) (time: 1995; latitude: 36; longitude: 72)>,\n",
       " <iris 'Cube' of near_surface_temperature_anomaly / (K) (time: 1995; latitude: 36; longitude: 72)>,\n",
       " <iris 'Cube' of near_surface_temperature_anomaly / (K) (time: 1995; latitude: 36; longitude: 72)>,\n",
       " <iris 'Cube' of near_surface_temperature_anomaly / (K) (time: 1995; latitude: 36; longitude: 72)>,\n",
       " <iris 'Cube' of near_surface_temperature_anomaly / (K) (time: 1995; latitude: 36; longitude: 72)>,\n",
       " <iris 'Cube' of near_surface_temperature_anomaly / (K) (time: 1995; latitude: 36; longitude: 72)>,\n",
       " <iris 'Cube' of near_surface_temperature_anomaly / (K) (time: 1995; latitude: 36; longitude: 72)>,\n",
       " <iris 'Cube' of near_surface_temperature_anomaly / (K) (time: 1995; latitude: 36; longitude: 72)>]"
      ]
     },
     "execution_count": 3,
     "metadata": {},
     "output_type": "execute_result"
    }
   ],
   "source": [
    "def load_temp(n):\n",
    "    crut_file = \"/Users/admin/Downloads/HadCRUT.4.4.0.0.anomalies.1_to_10_netcdf/HadCRUT.4.4.0.0.anomalies.%d.nc\"%n\n",
    "    crut = iris.load(crut_file)\n",
    "    temp = crut[0]\n",
    "    for t in range(temp.data.shape[0]):\n",
    "        temp.data[t] = temp.data[t] / max(temp.data[t].max(), -temp.data[t].min())\n",
    "        temp.data[t].set_fill_value(temp.data[t].mean())\n",
    "    return temp\n",
    "\n",
    "temps = []\n",
    "for i in range(1,11):\n",
    "    temps.append(load_temp(i))\n",
    "temps"
   ]
  },
  {
   "cell_type": "code",
   "execution_count": 180,
   "metadata": {
    "collapsed": false
   },
   "outputs": [],
   "source": [
    "X = temps[0].data.filled().reshape(1995, 72*36)[1500:]"
   ]
  },
  {
   "cell_type": "code",
   "execution_count": 181,
   "metadata": {
    "collapsed": false,
    "scrolled": true
   },
   "outputs": [
    {
     "data": {
      "text/plain": [
       "(495, 2592)"
      ]
     },
     "execution_count": 181,
     "metadata": {},
     "output_type": "execute_result"
    }
   ],
   "source": [
    "X.shape"
   ]
  },
  {
   "cell_type": "code",
   "execution_count": 182,
   "metadata": {
    "collapsed": false
   },
   "outputs": [],
   "source": [
    "def SubtractLinearRegress(series):\n",
    "    lmodel = LinearRegression(fit_intercept=True)\n",
    "#     print series\n",
    "    s = series.reshape(series.shape[0], 1)\n",
    "    r = np.arange(s.shape[0]).reshape(s.shape[0], 1)\n",
    "    lmodel.fit(r, s)\n",
    "#     print lmodel.coef_\n",
    "#     warming = np.vectorize(lambda x: lmodel.predict(x))(np.arange(series.shape[0]))\n",
    "    warming = lmodel.predict(r)\n",
    "    return (s - warming).reshape(series.shape[0])"
   ]
  },
  {
   "cell_type": "code",
   "execution_count": 183,
   "metadata": {
    "collapsed": false
   },
   "outputs": [],
   "source": [
    "normedX = np.apply_along_axis(SubtractLinearRegress, 1, X.T)"
   ]
  },
  {
   "cell_type": "code",
   "execution_count": 184,
   "metadata": {
    "collapsed": false
   },
   "outputs": [
    {
     "data": {
      "text/plain": [
       "(2592, 495)"
      ]
     },
     "execution_count": 184,
     "metadata": {},
     "output_type": "execute_result"
    }
   ],
   "source": [
    "normedX.shape"
   ]
  },
  {
   "cell_type": "code",
   "execution_count": 189,
   "metadata": {
    "collapsed": false
   },
   "outputs": [
    {
     "name": "stdout",
     "output_type": "stream",
     "text": [
      "[ -1.17346473e-01  -3.16597134e-01  -5.36274314e-02  -1.18314601e-01\n",
      "  -2.66326349e-02  -5.96424118e-02   3.37130964e-01  -1.94129068e-02\n",
      "   1.55891195e-01  -1.58797503e-01  -8.46559629e-02  -1.95110187e-01\n",
      "  -4.39829051e-01  -3.09281796e-01  -3.11734471e-02  -1.50066197e-01\n",
      "   3.09971403e-02  -1.01464204e-01   6.43281341e-02  -3.83257091e-01\n",
      "  -4.05389726e-01  -2.31891856e-01  -6.90205097e-02   2.40486022e-03\n",
      "  -7.80412257e-02  -7.83223584e-02  -9.24725756e-02   1.98511146e-02\n",
      "  -4.74469624e-02  -2.80375510e-01  -6.63845539e-02  -7.52635226e-02\n",
      "  -2.26752684e-01   9.78308264e-03   5.50593399e-02  -7.58569092e-02\n",
      "   7.04561025e-02   3.17033902e-02   1.13587268e-01  -3.44967730e-02\n",
      "   1.26205385e-01  -6.99413866e-02  -1.17321350e-02  -2.44325418e-02\n",
      "  -3.84781629e-01  -1.99443102e-01  -1.44104943e-01  -7.61408955e-02\n",
      "   7.71651417e-02  -1.63871720e-01  -7.41554946e-02   3.69740427e-02\n",
      "  -3.79290292e-03   1.97179019e-01   2.94335987e-02   3.60387973e-02\n",
      "   2.46711269e-01   1.94666870e-02   6.36099875e-02   3.05354327e-01\n",
      "   6.28281757e-02   5.35060130e-02  -1.26922056e-01   9.28568244e-02\n",
      "   3.24697822e-01   9.68610868e-02   1.02672102e-02   8.35552290e-02\n",
      "   2.31785774e-01   2.99930513e-01   5.27147278e-02   1.18226567e-02\n",
      "  -9.83215347e-02  -2.97517818e-03  -7.79190585e-02   1.58642028e-02\n",
      "   9.76152532e-03  -1.08873844e-01   1.80356503e-01  -2.46437732e-02\n",
      "   3.10282335e-02  -2.18700573e-01  -1.50730442e-02   1.05750144e-01\n",
      "   1.66039497e-01   1.55832440e-01   1.58362582e-01   1.11679465e-01\n",
      "   4.19043936e-02  -3.34668189e-01  -2.58380741e-01   7.82418624e-02\n",
      "  -1.22215420e-01  -1.92482740e-01   1.69736743e-02   1.12380587e-01\n",
      "   1.69290081e-01   3.23207766e-01   2.47998938e-01  -1.04430057e-01\n",
      "   6.89999238e-02  -1.05808422e-01  -1.03010684e-01   1.13827270e-02\n",
      "   4.84226257e-01   2.47404203e-01  -3.26384753e-02  -8.40202644e-02\n",
      "  -1.51647508e-01  -1.83191791e-01  -3.42702903e-02  -3.54940258e-02\n",
      "   6.77565187e-02   7.91746452e-02  -1.05780989e-01  -5.55972755e-02\n",
      "  -3.87331218e-01  -6.79017305e-02  -3.26559925e-03   6.22831807e-02\n",
      "   1.01444803e-01   1.63355514e-01   1.84864014e-01   4.11045589e-02\n",
      "   1.95343927e-01  -2.59884596e-01  -5.02648018e-02   1.97167426e-01\n",
      "  -2.41295606e-01  -1.66716710e-01  -1.31753519e-01   1.89092662e-02\n",
      "   1.21176705e-01   7.20112249e-02   1.22169368e-01   3.22646886e-01\n",
      "   3.15205812e-01   1.22947946e-01   3.57877731e-01  -1.88028544e-01\n",
      "   1.59009606e-01   7.06048086e-02  -1.01911835e-01   1.49781033e-02\n",
      "   1.75419509e-01   2.40823776e-02   6.63848668e-02   1.44496068e-01\n",
      "   1.76397085e-01   2.49458432e-01  -6.63772400e-04   3.09431292e-02\n",
      "   3.04104615e-04   2.21370354e-01   3.08022555e-02   5.41775897e-02\n",
      "   4.18110371e-01   2.00259775e-01   2.10736886e-01   9.07590520e-03\n",
      "   2.83238411e-01   1.37422085e-01   2.58640319e-01   1.01000324e-01\n",
      "   2.02321827e-01   4.97795910e-01  -1.10794932e-01   1.51276626e-02\n",
      "   9.38486606e-02  -9.46367830e-02   8.54863301e-02  -1.05263421e-03\n",
      "   2.02279493e-01  -2.78253675e-01  -3.05337925e-02  -3.02930623e-01\n",
      "  -3.23926695e-02   1.43417105e-01  -1.87475622e-01  -1.59260526e-01\n",
      "   2.02686429e-01   1.19628301e-02   1.37494307e-03  -2.04218447e-01\n",
      "  -5.81680723e-02  -1.21581323e-01   5.29480763e-02  -5.35984457e-01\n",
      "  -3.42207849e-01   3.78800854e-02   1.24267422e-01   1.20043606e-01\n",
      "  -1.87866345e-01  -2.24394426e-01  -1.22351595e-03  -8.56778026e-02\n",
      "   1.58324286e-01   1.98302791e-01  -9.23885405e-03  -6.12184294e-02\n",
      "  -2.40686238e-02   2.18758181e-01   2.30627537e-01  -1.15474336e-01\n",
      "   1.90841407e-01  -4.25139926e-02   1.07502282e-01   1.98958546e-01\n",
      "   2.12364882e-01  -9.67184603e-02   8.62835795e-02   1.61486119e-01\n",
      "   9.14035439e-02   4.44885547e-04  -1.38794616e-01  -1.27138838e-01\n",
      "   2.49201972e-02   2.49567404e-02   8.79668072e-02   2.42883280e-01\n",
      "   3.22676659e-01   2.16233954e-01   4.32863444e-01   1.64251134e-01\n",
      "   1.35399491e-01   7.97031894e-02   1.61990509e-04  -4.36847173e-02\n",
      "   2.92799860e-01  -8.81235860e-03  -2.57129252e-01  -8.02162588e-02\n",
      "   5.56510780e-03  -8.52188021e-02   9.33179557e-02  -1.57470152e-01\n",
      "  -9.01093483e-02   1.03142090e-01  -1.78799387e-02   6.66787624e-02\n",
      "   1.44149408e-01  -6.96546063e-02   2.61426300e-01   3.88095602e-02\n",
      "   2.04964310e-01   1.51385114e-01   1.02302253e-01   5.44641949e-02\n",
      "   2.54484028e-01  -5.44019192e-02   9.65862647e-02   8.82911012e-02\n",
      "  -3.90572026e-02   4.93306778e-02   4.57299799e-02   2.27579698e-01\n",
      "   2.57549644e-01   4.64231730e-01   8.43183324e-02   1.29810095e-01\n",
      "   7.38048479e-02  -2.07633413e-02  -5.94653748e-02   8.00000504e-02\n",
      "   4.19023596e-02  -8.17190036e-02  -1.25473350e-01  -4.37939875e-02\n",
      "  -7.92252719e-02   8.45880881e-02   2.48257384e-01   6.83885347e-03\n",
      "   2.96496868e-01   1.61730915e-01   5.70141636e-02   7.25133270e-02\n",
      "   6.59083128e-02   1.21266149e-01   2.21827790e-01   1.53628856e-01\n",
      "   9.75406244e-02   1.45118773e-01   3.73388976e-01   2.12338507e-01\n",
      "   3.09751391e-01   1.16370358e-01  -8.05800036e-02  -1.05177984e-02\n",
      "   3.19255441e-02   5.32226674e-02   2.25401893e-02  -1.06359430e-01\n",
      "   1.18209012e-01   1.39580756e-01   1.27720177e-01   1.56340778e-01\n",
      "   2.16343448e-01   2.37138659e-01  -4.85900283e-01  -2.24782333e-01\n",
      "  -1.55982617e-02  -9.07578245e-02  -2.01474745e-02   6.53224289e-02\n",
      "  -1.42323017e-01  -1.01467714e-01   2.98960716e-03   6.96815997e-02\n",
      "   2.58396417e-01  -7.26253018e-02  -2.58491695e-01  -2.02017352e-01\n",
      "  -1.86462756e-02  -9.26909149e-02   1.42281264e-01   8.62323567e-02\n",
      "  -2.23079145e-01   4.32622105e-01   3.14594135e-02  -1.48647875e-01\n",
      "   9.47320014e-02  -2.50657767e-01  -1.00391343e-01   3.01590674e-02\n",
      "   5.38595282e-02   8.75387043e-02   3.65149975e-02   2.29483813e-01\n",
      "   1.59928743e-02   8.28405917e-02  -3.79742011e-02  -4.18998674e-03\n",
      "   2.01096773e-01   7.79462010e-02   1.16240352e-01   6.11863360e-02\n",
      "   2.07497314e-01   5.93930334e-02   2.11041025e-03   2.30558738e-01\n",
      "   2.40183681e-01   2.36276150e-01   1.67854726e-01   2.40728289e-01\n",
      "   3.87816787e-01   4.54641916e-02   6.45214915e-02   1.08280405e-01\n",
      "   1.18799239e-01  -5.60712293e-02   1.98664472e-01   1.59851357e-01\n",
      "   1.73050612e-01   1.96600482e-01   1.58219233e-01  -1.10062733e-01\n",
      "   1.07395925e-01   2.52964258e-01  -3.64998765e-02   2.07856447e-02\n",
      "   4.18520793e-02   4.80282083e-02   1.89401537e-01   2.76082218e-01\n",
      "  -6.06404245e-03   3.08984250e-01   3.30888033e-01  -1.44454325e-02\n",
      "   2.08403930e-01   2.54895419e-01   1.41424134e-01   2.18264922e-01\n",
      "   1.80304497e-01   1.71358898e-01   3.68838757e-02   4.19866703e-02\n",
      "  -1.97072104e-01   1.28313690e-01   2.43652001e-01   5.43563664e-02\n",
      "   1.78188324e-01   1.19201981e-01   4.68395241e-02  -3.79825719e-02\n",
      "   1.64560415e-02  -1.45684123e-01   2.16301173e-01   1.02651395e-01\n",
      "   4.67146188e-01  -2.70966351e-01  -8.75765458e-02   7.55944028e-02\n",
      "   1.64585277e-01   1.45604268e-01  -7.59480745e-02  -3.59571762e-02\n",
      "  -8.96587893e-02  -1.53077990e-01  -1.45111471e-01  -2.08609462e-01\n",
      "  -1.74013212e-01   2.90498585e-01   1.54594239e-02  -1.72540486e-01\n",
      "   1.68822244e-01   2.09657282e-01   8.18574727e-02   1.88088864e-01\n",
      "  -1.56467721e-01  -3.47743869e-01  -6.55279234e-02   6.26913682e-02\n",
      "   4.27565128e-02   2.20568448e-01   5.63889742e-02   6.01134658e-01\n",
      "   2.03190073e-01  -6.73985034e-02   5.38137481e-02   1.06473468e-01\n",
      "  -1.66754350e-01  -1.65397182e-01  -1.34355336e-01   1.00949988e-01\n",
      "  -9.28441808e-03   7.75968507e-02   2.80990332e-01   1.73460171e-02\n",
      "   3.02414656e-01  -1.70641601e-01  -2.77019799e-01  -1.80937082e-01\n",
      "  -3.70954499e-02  -7.13231042e-02  -1.19043991e-01  -1.24454036e-01\n",
      "  -3.34146380e-01  -1.17139027e-01  -1.40848802e-02   1.37157543e-02\n",
      "  -1.01487953e-02   1.27842519e-02   8.48320946e-02  -1.39798164e-01\n",
      "   2.41931956e-02  -1.44053832e-01  -1.15559824e-01  -1.10907003e-01\n",
      "  -3.11728239e-01  -7.93834329e-02  -6.66275397e-02  -1.17735021e-01\n",
      "   1.00301743e-01  -1.27783298e-01   4.40770872e-02   5.95100932e-02\n",
      "   2.33401522e-01  -6.82799295e-02   5.38418144e-02   9.75591615e-02\n",
      "   2.89063156e-02   2.19903767e-01   4.27073270e-01   1.77486509e-01\n",
      "   3.86342078e-01   2.86434233e-01   7.33545497e-02   1.16677649e-01\n",
      "   1.31979853e-01  -6.35153502e-02   1.15125582e-01   2.72830337e-01\n",
      "   2.32034832e-01   2.92848051e-01   9.61124301e-02  -3.47103104e-02\n",
      "   6.63492233e-02   1.85789928e-01   2.86153555e-01   1.32391304e-01\n",
      "   1.08762994e-01   1.26450256e-01   2.22849727e-01  -9.05128568e-03\n",
      "   1.00482851e-02   4.21633512e-01   1.58506602e-01   1.07296951e-01\n",
      "   2.90177688e-02   1.02076732e-01   1.36774749e-01   7.08723664e-02\n",
      "   9.98442173e-02   6.45229742e-02   1.53634563e-01] [-0.10901208 -0.30846176 -0.04569108 -0.11057727 -0.01909432 -0.05230312\n",
      "  0.34427123 -0.01247166  0.16263342 -0.1522543  -0.07831178 -0.18896503\n",
      " -0.43388291 -0.30353468 -0.02562535 -0.14471712  0.03614719 -0.09651317\n",
      "  0.06908014 -0.3787041  -0.40103576 -0.22773691 -0.06506459  0.00616176\n",
      " -0.07448334 -0.0749635  -0.08931274  0.02281193 -0.04468517 -0.27781274\n",
      " -0.0640208  -0.07309879 -0.22478697  0.01154977  0.05662701 -0.07448826\n",
      "  0.07162573  0.03267399  0.11435885 -0.03392421  0.12657892 -0.06976687\n",
      " -0.01175664 -0.02465607 -0.38520418 -0.20006467 -0.14492553 -0.07716051\n",
      "  0.07594651 -0.16528938 -0.07577217  0.03515834 -0.00580762  0.19496528\n",
      "  0.02702084  0.03342701  0.24390046  0.01645686  0.06040114  0.30194646\n",
      "  0.05922128  0.0497001  -0.13092699  0.08865287  0.32029485  0.09225909\n",
      "  0.00546619  0.07855519  0.22658671  0.29453243  0.04711762  0.00602653\n",
      " -0.10431668 -0.00916935 -0.08431225  0.00927199  0.00297029 -0.1158641\n",
      "  0.17316723 -0.03203207  0.02344091 -0.22648691 -0.02305841  0.09756576\n",
      "  0.15765609  0.14725001  0.14958113  0.10269899  0.0327249  -0.3440467\n",
      " -0.26795828  0.06846531 -0.132191   -0.20265734  0.00660005  0.10180794\n",
      "  0.15851842  0.31223708  0.23682923 -0.11579878  0.05743217 -0.11757519\n",
      " -0.11497648 -0.00078209  0.47186242  0.23484135 -0.04540035 -0.09698116\n",
      " -0.16480743 -0.19655073 -0.04782825 -0.04925101  0.05380051  0.06501962\n",
      " -0.12013504 -0.07015035 -0.40208331 -0.08285284 -0.01841573  0.04693402\n",
      "  0.08589662  0.14760831  0.16891779  0.02495932  0.17899966 -0.27642788\n",
      " -0.06700711  0.1802261  -0.25843596 -0.18405608 -0.14929191  0.00117185\n",
      "  0.10324027  0.05387577  0.10383489  0.30411339  0.29647329  0.1040164\n",
      "  0.33874717 -0.20735813  0.139481    0.05087718 -0.12183849 -0.00514757\n",
      "  0.15509482  0.00355866  0.04566213  0.12357431  0.15527631  0.22813863\n",
      " -0.02218259  0.00922529 -0.02161276  0.19925447  0.00848735  0.03166366\n",
      "  0.39539742  0.1773478   0.18762589 -0.01423411  0.25972937  0.11371403\n",
      "  0.23473324  0.07689422  0.17801671  0.47329177 -0.1354981  -0.00977452\n",
      "  0.06874745 -0.11993701  0.05998708 -0.02675091  0.1763822  -0.30434999\n",
      " -0.05682913 -0.32942498 -0.05908605  0.1165247  -0.21456704 -0.18655097\n",
      "  0.17519696 -0.01572566 -0.02651257 -0.23230498 -0.08645362 -0.1500659\n",
      "  0.02426448 -0.56486707 -0.37128949  0.00859943  0.09478774  0.0903649\n",
      " -0.21774407 -0.25447117 -0.03149928 -0.11615259  0.12765048  0.16742996\n",
      " -0.04031071 -0.0924893  -0.05553852  0.18708926  0.1987596  -0.14754129\n",
      "  0.15857543 -0.07497899  0.07483826  0.1660955   0.17930282 -0.12997955\n",
      "  0.05282347  0.12782699  0.05754539 -0.03361229 -0.17305081 -0.16159405\n",
      " -0.00973404 -0.00989652  0.05291453  0.20763198  0.28722633  0.18058461\n",
      "  0.39701508  0.12820375  0.09915308  0.04325776 -0.03648246 -0.08052819\n",
      "  0.25575736 -0.04605388 -0.29456979 -0.11785582 -0.03227347 -0.1232564\n",
      "  0.05508133 -0.1959058  -0.12874402  0.0643084  -0.05691265  0.02744703\n",
      "  0.10471865 -0.10928438  0.2215975  -0.00121826  0.16473747  0.11095925\n",
      "  0.06167737  0.01364029  0.2134611  -0.09562387  0.0551653   0.04667111\n",
      " -0.08087621  0.00731265  0.00351293  0.18516362  0.21493455  0.42141761\n",
      "  0.04130519  0.08659793  0.03039367 -0.06437354 -0.1032746   0.0359918\n",
      " -0.00230491 -0.12612529 -0.17007866 -0.08859832 -0.12422863  0.03938571\n",
      "  0.20285599 -0.03876156  0.25069743  0.11573245  0.01081668  0.02611682\n",
      "  0.01931279  0.0744716   0.17483422  0.10643627  0.05014901  0.09752814\n",
      "  0.32559932  0.16434983  0.26156369  0.06798364 -0.12916574 -0.05930256\n",
      " -0.01705824  0.00403986 -0.02684164 -0.15594028  0.06842914  0.08960187\n",
      "  0.07754227  0.10596385  0.16576749  0.18636368 -0.53687428 -0.27595535\n",
      " -0.0669703  -0.14232889 -0.07191756  0.01335332 -0.19449114 -0.15383486\n",
      " -0.04957656  0.01691641  0.20543221 -0.12578853 -0.31185395 -0.25557863\n",
      " -0.07240657 -0.14665023  0.08812292  0.03187499 -0.27763553  0.3778667\n",
      " -0.02349501 -0.20380132  0.03937953 -0.30620926 -0.15614186 -0.02579047\n",
      " -0.00228903  0.03119113 -0.0200316   0.17273819 -0.04095177  0.02569693\n",
      " -0.09531688 -0.06173169  0.14335605  0.02000645  0.05810158  0.00284855\n",
      "  0.1489605   0.0006572  -0.05682445  0.17142486  0.18085078  0.17674423\n",
      "  0.10812379  0.18079833  0.3276878  -0.01486381  0.00399446  0.04755436\n",
      "  0.05787417 -0.11719532  0.13734136  0.09832922  0.11132946  0.1346803\n",
      "  0.09610003 -0.17238095  0.04487868  0.190248   -0.09941516 -0.04232866\n",
      " -0.02146125 -0.01548414  0.12569017  0.21217183 -0.07017346  0.24467582\n",
      "  0.26638058 -0.07915191  0.14349843  0.1897909   0.07612059  0.15276236\n",
      "  0.11460291  0.10545829 -0.02921575 -0.02431198 -0.26356977  0.061617\n",
      "  0.17675629 -0.01273837  0.11089457  0.0517092  -0.02085228 -0.10587339\n",
      " -0.0516338  -0.21397299  0.14781329  0.03396449  0.39826026 -0.3400513\n",
      " -0.15686052  0.00611141  0.09490326  0.07572323 -0.14602813 -0.10623625\n",
      " -0.16013689 -0.22375511 -0.21598761 -0.27968463 -0.2452874   0.21902538\n",
      " -0.0562128  -0.24441174  0.09675197  0.13738799  0.00938916  0.11542153\n",
      " -0.22933408 -0.42080925 -0.13879232 -0.01077205 -0.03090593  0.14670698\n",
      " -0.01767151  0.52687515  0.12873154 -0.14205605 -0.02104282  0.03141788\n",
      " -0.24200896 -0.24085082 -0.21000799  0.02509831 -0.08533512  0.00134713\n",
      "  0.20454159 -0.05930175  0.22556787 -0.24768741 -0.35426463 -0.25838093\n",
      " -0.11473832 -0.149165   -0.19708491 -0.20269397 -0.41258534 -0.19577701\n",
      " -0.09292188 -0.06532027 -0.08938384 -0.06664981  0.00519901 -0.21963027\n",
      " -0.05583793 -0.22428398 -0.195989   -0.1915352  -0.39255545 -0.16040967\n",
      " -0.1478528  -0.1991593   0.01867844 -0.20960562 -0.03794426 -0.02271027\n",
      "  0.15098214 -0.15089834 -0.02897562  0.01454271 -0.05430916  0.13648927\n",
      "  0.34345975  0.09367397  0.30233052  0.20222365 -0.01105505  0.03206903\n",
      "  0.04717221 -0.14852202  0.02991989  0.18742563  0.1464311   0.2070453\n",
      "  0.01011066 -0.1209111  -0.02005059  0.09919109  0.1993557   0.04539442\n",
      "  0.02156709  0.03905533  0.13525578 -0.09684425 -0.0779437   0.3334425\n",
      "  0.07011657  0.0187079  -0.0597703   0.01308964  0.04758863 -0.01851277\n",
      "  0.01026006 -0.02526021  0.06365236]\n"
     ]
    }
   ],
   "source": [
    "ind = 1000\n",
    "print X.T[ind], normedX[ind]"
   ]
  },
  {
   "cell_type": "code",
   "execution_count": 190,
   "metadata": {
    "collapsed": false
   },
   "outputs": [
    {
     "data": {
      "text/plain": [
       "1.2664313995733851"
      ]
     },
     "execution_count": 190,
     "metadata": {},
     "output_type": "execute_result"
    }
   ],
   "source": [
    "max(np.apply_along_axis(max, 0, normedX.T))"
   ]
  },
  {
   "cell_type": "code",
   "execution_count": 204,
   "metadata": {
    "collapsed": false
   },
   "outputs": [
    {
     "data": {
      "image/png": "[encoded data removed]",
      "text/plain": [
       "<matplotlib.figure.Figure at 0x1334a0bd0>"
      ]
     },
     "metadata": {},
     "output_type": "display_data"
    },
    {
     "data": {
      "image/png": "[encoded data removed]",
      "text/plain": [
       "<matplotlib.figure.Figure at 0x133d20050>"
      ]
     },
     "metadata": {},
     "output_type": "display_data"
    }
   ],
   "source": [
    "i = 1400\n",
    "plt.scatter(X.T[i], np.arange(X.T[i].shape[0]))\n",
    "plt.show()\n",
    "plt.scatter(normedX[i], np.arange(normedX[i].shape[0]))\n",
    "plt.show()"
   ]
  },
  {
   "cell_type": "code",
   "execution_count": null,
   "metadata": {
    "collapsed": true
   },
   "outputs": [],
   "source": []
  }
 ],
 "metadata": {
  "kernelspec": {
   "display_name": "Python 2",
   "language": "python",
   "name": "python2"
  },
  "language_info": {
   "codemirror_mode": {
    "name": "ipython",
    "version": 2
   },
   "file_extension": ".py",
   "mimetype": "text/x-python",
   "name": "python",
   "nbconvert_exporter": "python",
   "pygments_lexer": "ipython2",
   "version": "2.7.11"
  }
 },
 "nbformat": 4,
 "nbformat_minor": 0
}
